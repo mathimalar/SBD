{
 "cells": [
  {
   "cell_type": "code",
   "execution_count": 4,
   "metadata": {},
   "outputs": [],
   "source": [
    "import matplotlib.pyplot as plt\n",
    "import numpy as np\n",
    "import os\n",
    "m = np.zeros((20,20))\n",
    "to_compute = []\n",
    "for i in range(20):\n",
    "    for j in range(20):\n",
    "        fname = f\"out/errors_{i}_{j}.npy\"\n",
    "        if os.path.exists(fname):\n",
    "            m[i,j] = np.median(np.load(fname))\n",
    "        else:\n",
    "            to_compute.append((i,j))\n",
    "            m[i,j] = 100000\n"
   ]
  },
  {
   "cell_type": "code",
   "execution_count": null,
   "metadata": {},
   "outputs": [],
   "source": [
    "from bench import BenchmarkInfo\n",
    "bench_info = BenchmarkInfo(sample_num=20,\n",
    "                            resolution=20,\n",
    "                            max_defect_density=0.5,\n",
    "                            min_defect_density=0.5 * (10 ** -4),\n",
    "                            max_kernel_size=62,\n",
    "                            min_kernel_size=8)\n",
    "d_range = bench_info.defect_range()\n",
    "k_range = bench_info.kernel_range()\n",
    "\n",
    "D, K = np.meshgrid(d_range, k_range / 256)\n",
    "im = plt.pcolormesh(D, K, m, cmap='jet', shading='auto')\n",
    "cb = plt.colorbar()\n",
    "# cb.set_label(r'$\\epsilon$', loc='bottom')\n",
    "plt.xlabel('Defect density')\n",
    "plt.ylabel(r'Kernel relative size $m/n$')\n",
    "plt.clim(0, 1)\n",
    "plt.xscale('log')"
   ]
  },
  {
   "cell_type": "code",
   "execution_count": 9,
   "metadata": {},
   "outputs": [],
   "source": [
    "import random\n",
    "random.shuffle(to_compute)\n",
    "import json\n",
    "for i in range(1, 4):\n",
    "    with open(f\"job{i}.json\", \"w+\") as f:\n",
    "        f.write(json.dumps(to_compute[(i-1)*50:(i*50)]))"
   ]
  },
  {
   "cell_type": "code",
   "execution_count": 6,
   "metadata": {},
   "outputs": [],
   "source": []
  },
  {
   "cell_type": "code",
   "execution_count": 44,
   "metadata": {},
   "outputs": [
    {
     "data": {
      "image/png": "[encoded data removed]",
      "text/plain": [
       "<Figure size 432x288 with 2 Axes>"
      ]
     },
     "metadata": {
      "needs_background": "light"
     },
     "output_type": "display_data"
    }
   ],
   "source": []
  },
  {
   "cell_type": "code",
   "execution_count": 42,
   "metadata": {},
   "outputs": [
    {
     "data": {
      "text/plain": [
       "array([[5.00000000e-05, 2.23606798e-03, 1.00000000e-01],\n",
       "       [5.00000000e-05, 2.23606798e-03, 1.00000000e-01],\n",
       "       [5.00000000e-05, 2.23606798e-03, 1.00000000e-01]])"
      ]
     },
     "execution_count": 42,
     "metadata": {},
     "output_type": "execute_result"
    }
   ],
   "source": [
    "D"
   ]
  }
 ],
 "metadata": {
  "kernelspec": {
   "display_name": "Python 3.8.3 64-bit",
   "language": "python",
   "name": "python3"
  },
  "language_info": {
   "codemirror_mode": {
    "name": "ipython",
    "version": 3
   },
   "file_extension": ".py",
   "mimetype": "text/x-python",
   "name": "python",
   "nbconvert_exporter": "python",
   "pygments_lexer": "ipython3",
   "version": "3.8.3"
  },
  "orig_nbformat": 4,
  "vscode": {
   "interpreter": {
    "hash": "a3dc3f842ff096a9078f26f4e4b083e0f923648089aaf3cfbcd1916fa1085e57"
   }
  }
 },
 "nbformat": 4,
 "nbformat_minor": 2
}
